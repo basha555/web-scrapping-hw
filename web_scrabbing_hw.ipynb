{
  "nbformat": 4,
  "nbformat_minor": 0,
  "metadata": {
    "colab": {
      "name": "web scrabbing hw.ipynb",
      "provenance": [],
      "collapsed_sections": []
    },
    "kernelspec": {
      "name": "python3",
      "display_name": "Python 3"
    }
  },
  "cells": [
    {
      "cell_type": "code",
      "metadata": {
        "id": "73q098dx7T88",
        "colab_type": "code",
        "colab": {}
      },
      "source": [
        "from requests import get\n",
        "from bs4 import BeautifulSoup"
      ],
      "execution_count": 0,
      "outputs": []
    },
    {
      "cell_type": "markdown",
      "metadata": {
        "id": "UkCZnHz7LL2I",
        "colab_type": "text"
      },
      "source": [
        "**Hometown Air Quality**"
      ]
    },
    {
      "cell_type": "code",
      "metadata": {
        "id": "il1xU05u7WlA",
        "colab_type": "code",
        "colab": {}
      },
      "source": [
        "url = \"https://www.airvisual.com/thailand/uthai-thani\"\n",
        "response = get(url)"
      ],
      "execution_count": 0,
      "outputs": []
    },
    {
      "cell_type": "code",
      "metadata": {
        "id": "ce9k99747cus",
        "colab_type": "code",
        "colab": {}
      },
      "source": [
        "html_soup = BeautifulSoup(response.text, 'html.parser')"
      ],
      "execution_count": 0,
      "outputs": []
    },
    {
      "cell_type": "code",
      "metadata": {
        "id": "ZArozWjm8FZu",
        "colab_type": "code",
        "colab": {
          "base_uri": "https://localhost:8080/",
          "height": 51
        },
        "outputId": "98b5a6fa-bb04-4c0c-f0b8-760633262365"
      },
      "source": [
        "air_containers = html_soup.find_all('span', class_ = 'aqi')\n",
        "print(type(air_containers))\n",
        "print(len(air_containers))"
      ],
      "execution_count": 63,
      "outputs": [
        {
          "output_type": "stream",
          "text": [
            "<class 'bs4.element.ResultSet'>\n",
            "2\n"
          ],
          "name": "stdout"
        }
      ]
    },
    {
      "cell_type": "code",
      "metadata": {
        "id": "PLcki2IlHrsY",
        "colab_type": "code",
        "colab": {
          "base_uri": "https://localhost:8080/",
          "height": 51
        },
        "outputId": "c8b1c5f6-6b79-4cf8-eabc-686895b520c2"
      },
      "source": [
        "level_containers =  html_soup.find_all('span', class_ = 'status-text')\n",
        "print(type(level_containers))\n",
        "print(len(level_containers))"
      ],
      "execution_count": 70,
      "outputs": [
        {
          "output_type": "stream",
          "text": [
            "<class 'bs4.element.ResultSet'>\n",
            "1\n"
          ],
          "name": "stdout"
        }
      ]
    },
    {
      "cell_type": "code",
      "metadata": {
        "id": "ZSkTQAp3AitN",
        "colab_type": "code",
        "colab": {}
      },
      "source": [
        "aqi = air_containers[1]\n",
        "level = level_containers[0]"
      ],
      "execution_count": 0,
      "outputs": []
    },
    {
      "cell_type": "code",
      "metadata": {
        "id": "fYMMfamKG7VZ",
        "colab_type": "code",
        "colab": {
          "base_uri": "https://localhost:8080/",
          "height": 34
        },
        "outputId": "c1c35086-c706-4b94-9de1-9f968f199fc3"
      },
      "source": [
        "print(\"aqi of uthaithani province is \" + aqi.text + \" and level of polution is \" + level.text)"
      ],
      "execution_count": 72,
      "outputs": [
        {
          "output_type": "stream",
          "text": [
            "aqi of uthaithani province is 103and level of polution is Unhealthy for Sensitive Groups\n"
          ],
          "name": "stdout"
        }
      ]
    },
    {
      "cell_type": "markdown",
      "metadata": {
        "id": "gun8jEYNLqXn",
        "colab_type": "text"
      },
      "source": [
        "**Workspace Air Quality**"
      ]
    },
    {
      "cell_type": "code",
      "metadata": {
        "id": "np6m9_V8Lt4O",
        "colab_type": "code",
        "colab": {}
      },
      "source": [
        "url = \"https://www.airvisual.com/thailand/bangkok/huai-khwang\"\n",
        "response = get(url)"
      ],
      "execution_count": 0,
      "outputs": []
    },
    {
      "cell_type": "code",
      "metadata": {
        "id": "pbIPCRGtMJPf",
        "colab_type": "code",
        "colab": {}
      },
      "source": [
        "html_soup = BeautifulSoup(response.text, 'html.parser')"
      ],
      "execution_count": 0,
      "outputs": []
    },
    {
      "cell_type": "code",
      "metadata": {
        "id": "hMEkNY9yMLT3",
        "colab_type": "code",
        "colab": {
          "base_uri": "https://localhost:8080/",
          "height": 51
        },
        "outputId": "eb1c0f7c-d0cb-4882-8c9e-c12f1c414866"
      },
      "source": [
        "air_containers = html_soup.find_all('span', class_ = 'aqi')\n",
        "print(type(air_containers))\n",
        "print(len(air_containers))"
      ],
      "execution_count": 85,
      "outputs": [
        {
          "output_type": "stream",
          "text": [
            "<class 'bs4.element.ResultSet'>\n",
            "2\n"
          ],
          "name": "stdout"
        }
      ]
    },
    {
      "cell_type": "code",
      "metadata": {
        "id": "9J6AOyaEM9lQ",
        "colab_type": "code",
        "colab": {
          "base_uri": "https://localhost:8080/",
          "height": 51
        },
        "outputId": "ad7362d0-283c-45f5-9049-f64985995f80"
      },
      "source": [
        "level_containers =  html_soup.find_all('span', class_ = 'status-text')\n",
        "print(type(level_containers))\n",
        "print(len(level_containers))"
      ],
      "execution_count": 86,
      "outputs": [
        {
          "output_type": "stream",
          "text": [
            "<class 'bs4.element.ResultSet'>\n",
            "1\n"
          ],
          "name": "stdout"
        }
      ]
    },
    {
      "cell_type": "code",
      "metadata": {
        "id": "9K61VD00NCRc",
        "colab_type": "code",
        "colab": {}
      },
      "source": [
        "aqi = air_containers[1]\n",
        "level = level_containers[0]"
      ],
      "execution_count": 0,
      "outputs": []
    },
    {
      "cell_type": "code",
      "metadata": {
        "id": "tMYM1f8jNFSp",
        "colab_type": "code",
        "colab": {
          "base_uri": "https://localhost:8080/",
          "height": 34
        },
        "outputId": "de736dbd-b5a9-4e7d-885a-06f62d36b482"
      },
      "source": [
        "print(\"aqi of huai khwang province is \" + aqi.text + \" and level of polution is \" + level.text)"
      ],
      "execution_count": 89,
      "outputs": [
        {
          "output_type": "stream",
          "text": [
            "aqi of huai khwang province is 114 and level of polution is Unhealthy for Sensitive Groups\n"
          ],
          "name": "stdout"
        }
      ]
    }
  ]
}